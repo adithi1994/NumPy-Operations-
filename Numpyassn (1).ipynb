{
 "cells": [
  {
   "cell_type": "code",
   "execution_count": 12,
   "id": "68113ad2-b38b-4a24-905c-28acccb89d86",
   "metadata": {},
   "outputs": [
    {
     "name": "stdout",
     "output_type": "stream",
     "text": [
      "Total Sum of array=  921\n",
      "Row sum of array=  [165 222 298 236]\n",
      "Column sum of array=  [ 78 139 183 247 274]\n"
     ]
    }
   ],
   "source": [
    "import numpy as np\n",
    "arr1=np.array([[10,25,33,42,55],[12,33,46,42,89],[38,46,62,99,53],[18,35,42,64,77]])\n",
    "arr1\n",
    "total_sum=np.sum(arr1)\n",
    "row_sum=np.sum(arr1,axis=1)\n",
    "print(\"Total Sum of array= \",total_sum)\n",
    "print(\"Row sum of array= \",row_sum)\n",
    "col_sum=np.sum(arr1,axis=0)\n",
    "print(\"Column sum of array= \",col_sum)"
   ]
  },
  {
   "cell_type": "code",
   "execution_count": 19,
   "id": "fbb21e90-9e9d-4a93-92fc-470130c29e1f",
   "metadata": {},
   "outputs": [
    {
     "name": "stdout",
     "output_type": "stream",
     "text": [
      "The array is:\n",
      "[[10 25 33 42 55]\n",
      " [12 33 46 42 89]\n",
      " [38 46 62 99 53]\n",
      " [18 35 42 64 77]]\n",
      "The numbers less than 50 is:\n",
      "[10 25 33 42 12 33 46 42 38 46 18 35 42]\n",
      "The numbers greater than 50 is:\n",
      "[55 89 62 99 53 64 77]\n"
     ]
    }
   ],
   "source": [
    "arr1=np.array([[10,25,33,42,55],[12,33,46,42,89],[38,46,62,99,53],[18,35,42,64,77]])\n",
    "spec_no=50\n",
    "less_than= arr1[arr1<spec_no]\n",
    "greater_than=arr1[arr1>spec_no]\n",
    "print(f\"The array is:\\n{arr1}\")\n",
    "print(f\"The numbers less than {spec_no} is:\\n{less_than}\")\n",
    "print(f\"The numbers greater than {spec_no} is:\\n{greater_than}\")"
   ]
  },
  {
   "cell_type": "code",
   "execution_count": 34,
   "id": "039df338-97aa-4b1b-9338-a99adeef21ab",
   "metadata": {},
   "outputs": [
    {
     "name": "stdout",
     "output_type": "stream",
     "text": [
      "The arrays are:\n",
      "array1:\n",
      "[[39 49 12  0]\n",
      " [28 45 29 19]\n",
      " [13  5 43 12]\n",
      " [ 6 13 42 14]]\n",
      "array2:\n",
      "[[93 84 68 93]\n",
      " [60 54 94 55]\n",
      " [99 75 78 69]\n",
      " [66 61 89 99]]\n",
      "array3:\n",
      "[[199 149 180 138]\n",
      " [120 184 164 144]\n",
      " [179 134 195 157]\n",
      " [153 174 105 169]]\n",
      "The arrays concatenated as rows is:\n",
      "[[ 39  49  12   0  93  84  68  93 199 149 180 138]\n",
      " [ 28  45  29  19  60  54  94  55 120 184 164 144]\n",
      " [ 13   5  43  12  99  75  78  69 179 134 195 157]\n",
      " [  6  13  42  14  66  61  89  99 153 174 105 169]]\n",
      "The arrays concatenated as columns is:\n",
      "[[ 39  49  12   0]\n",
      " [ 28  45  29  19]\n",
      " [ 13   5  43  12]\n",
      " [  6  13  42  14]\n",
      " [ 93  84  68  93]\n",
      " [ 60  54  94  55]\n",
      " [ 99  75  78  69]\n",
      " [ 66  61  89  99]\n",
      " [199 149 180 138]\n",
      " [120 184 164 144]\n",
      " [179 134 195 157]\n",
      " [153 174 105 169]]\n"
     ]
    }
   ],
   "source": [
    "import numpy.random\n",
    "ar1 = np.random.randint(0, 50, size=(4, 4))\n",
    "ar2 = np.random.randint(50,100, size=(4,4))\n",
    "ar3 = np.random.randint(100,200, size=(4,4))\n",
    "\n",
    "concat1= np.concatenate((ar1,ar2,ar3),axis=1)\n",
    "concat2= np.concatenate((ar1,ar2,ar3),axis=0)\n",
    "\n",
    "print(f\"The arrays are:\\narray1:\\n{ar1}\\narray2:\\n{ar2}\\narray3:\\n{ar3}\")\n",
    "print(f\"The arrays concatenated as rows is:\\n{concat1}\")\n",
    "print(f\"The arrays concatenated as columns is:\\n{concat2}\")\n"
   ]
  },
  {
   "cell_type": "code",
   "execution_count": null,
   "id": "20948baf-fe8a-4573-b779-6dc0d57cbe52",
   "metadata": {},
   "outputs": [],
   "source": []
  }
 ],
 "metadata": {
  "kernelspec": {
   "display_name": "Python 3 (ipykernel)",
   "language": "python",
   "name": "python3"
  },
  "language_info": {
   "codemirror_mode": {
    "name": "ipython",
    "version": 3
   },
   "file_extension": ".py",
   "mimetype": "text/x-python",
   "name": "python",
   "nbconvert_exporter": "python",
   "pygments_lexer": "ipython3",
   "version": "3.11.7"
  }
 },
 "nbformat": 4,
 "nbformat_minor": 5
}
